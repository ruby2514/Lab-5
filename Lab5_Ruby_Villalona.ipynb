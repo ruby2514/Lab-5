{
 "cells": [
  {
   "cell_type": "markdown",
   "metadata": {},
   "source": [
    "# CSIT 256/556: Lab 5: Data Aggregation & Time Series \n",
    "## [name]\n"
   ]
  },
  {
   "cell_type": "markdown",
   "metadata": {},
   "source": [
    "### Instruction\n",
    "\n",
    "There is one dataset in this assignment: the single-family home prices of cities in the United States (City_SingleFamily.csv), which is derrived from the Zillow Research (https://www.zillow.com/research/data/). It statistics the average prices of the single-family home of cities in the United State from April, 1996 to October, 2018.  \n",
    "\n",
    "The attributes are organized as **Region Name** (the city name), **State**, **CountyName**, **1996-04** to **2018-10** (indicating the prices of each month).\n",
    "\n",
    "Use this dataset to answer the questions below."
   ]
  },
  {
   "cell_type": "code",
   "execution_count": 4,
   "metadata": {},
   "outputs": [],
   "source": [
    "# Don't delete this cell\n",
    "# Execute this cell to import pandas, numpy, and matplotlib.pyplot.\n",
    "\n",
    "import pandas as pd\n",
    "import numpy as np\n",
    "import matplotlib.pyplot as plt\n",
    "pd.options.display.max_rows = 10"
   ]
  },
  {
   "cell_type": "markdown",
   "metadata": {},
   "source": [
    "## Question 1 (5 points)\n",
    "Reading data. Write the statement to load the data into a dataFrame called **country**. "
   ]
  },
  {
   "cell_type": "code",
   "execution_count": 26,
   "metadata": {},
   "outputs": [],
   "source": [
    "country = pd.read_csv('City_SingleFamily.csv')"
   ]
  },
  {
   "cell_type": "markdown",
   "metadata": {},
   "source": [
    "## Question 2 (5 points)\n",
    "Select all the records in New Jersey of **country** and assign them to the dataFrame **newJersey**."
   ]
  },
  {
   "cell_type": "code",
   "execution_count": 24,
   "metadata": {
    "scrolled": true
   },
   "outputs": [],
   "source": [
    "newJersey = country[country['State'] == 'NJ']"
   ]
  },
  {
   "cell_type": "markdown",
   "metadata": {},
   "source": [
    "## Question 3 (10 points)\n",
    "Data Aggregation. Group **newJersey** by the county name and set the new values to be the average prices. Name the grouped dataset as **county**.\n"
   ]
  },
  {
   "cell_type": "code",
   "execution_count": 22,
   "metadata": {},
   "outputs": [],
   "source": [
    "county = newJersey.groupby('CountyName').mean(numeric_only=True)"
   ]
  },
  {
   "cell_type": "markdown",
   "metadata": {},
   "source": [
    "## Question 4 (10 points)\n",
    "Indicate the data set **county** as time series.\n",
    "  \n",
    "#### Steps:   \n",
    "1. Apply 'county = county.T' to exchange columns and rows. All the dates will become index. \n",
    "2. Set the index of **county** to be datetime. "
   ]
  },
  {
   "cell_type": "code",
   "execution_count": 36,
   "metadata": {},
   "outputs": [],
   "source": [
    "# Transpose the DataFrame so dates become the index\n",
    "county = county.T\n",
    "\n",
    "# The first row likely contains county names, which should be columns, not the index\n",
    "# Extract the first row to use as column headers\n",
    "headers = county.iloc[0]\n",
    "\n",
    "# Create a new DataFrame with proper structure\n",
    "county = county.iloc[1:]\n",
    "county.columns = headers\n",
    "\n",
    "# Now convert the index to datetime format (assuming the index now contains date strings)\n",
    "county.index = pd.to_datetime(county.index)\n"
   ]
  },
  {
   "cell_type": "markdown",
   "metadata": {},
   "source": [
    "## Question 5 (10 points)\n",
    "Resampling. Create a new dataFrame called **county_year** which is the downsample dataset from **county** by setting the freqency as years and setting the new values to be the average prices. Both the closed side and the label should be 'left' for the downsample data. "
   ]
  },
  {
   "cell_type": "code",
   "execution_count": 40,
   "metadata": {},
   "outputs": [
    {
     "name": "stderr",
     "output_type": "stream",
     "text": [
      "/var/folders/hd/r1hr7x5j56x6bmpx24x51x9w0000gn/T/ipykernel_82424/3072141796.py:4: FutureWarning: 'Y' is deprecated and will be removed in a future version, please use 'YE' instead.\n",
      "  county_yearly_mean = county.resample('Y', label='left', closed='left').mean()\n"
     ]
    }
   ],
   "source": [
    "# Resample the county data to yearly frequency and compute the mean for each year\n",
    "# - label='left': Use the start of the period as the label\n",
    "# - closed='left': Intervals are closed on the left side (inclusive)\n",
    "county_yearly_mean = county.resample('Y', label='left', closed='left').mean()"
   ]
  },
  {
   "cell_type": "markdown",
   "metadata": {},
   "source": [
    "## Question 6 (10 points)\n",
    "Visualization and window function. Plot two lines as the following steps. \n",
    "\n",
    "### Steps\n",
    "1. Plot the prices of 'Essex County' in **county**. The Axis-x is the dates and the Axis-y indicates the prices.\n",
    "2. Apply the window function to smooth the data of 'Essex County' in **county** and plot it. Setting the window size to be 12 (12 months) and getting the average prices in each sliding window. "
   ]
  },
  {
   "cell_type": "code",
   "execution_count": null,
   "metadata": {},
   "outputs": [],
   "source": []
  }
 ],
 "metadata": {
  "kernelspec": {
   "display_name": "Python 3 (ipykernel)",
   "language": "python",
   "name": "python3"
  },
  "language_info": {
   "codemirror_mode": {
    "name": "ipython",
    "version": 3
   },
   "file_extension": ".py",
   "mimetype": "text/x-python",
   "name": "python",
   "nbconvert_exporter": "python",
   "pygments_lexer": "ipython3",
   "version": "3.12.4"
  }
 },
 "nbformat": 4,
 "nbformat_minor": 4
}
